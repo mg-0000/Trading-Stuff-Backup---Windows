{
 "cells": [
  {
   "cell_type": "markdown",
   "metadata": {},
   "source": [
    "The hypothesis is as follows:\n",
    "We can build a NN for simulating the black scholes option pricing model, to obtain the 'ideal' options price based on some simple parameters. When there is a significant deviation in the real market from this 'ideal' price, we have an arbitrage oppurtunity. This can be checked by looking at the spread between the 'ideal' calculated price and the actual price vs time for a few seconds/minutes. If they converge, then an arbitrage oppurtunity exists, else it doesn't."
   ]
  },
  {
   "cell_type": "markdown",
   "metadata": {},
   "source": [
    "Going a level deeper, the hypothesis here is that any intrinsic movement occurs in the stock before the option chain. Thus, for example, if there is any news event which can cause an upward movement in the company, the movement ocurs first in the stock. Now, for some time, there is no corresponding movement in the options. Hence, when using our option price calculation model, we will observe that the real price is at a discount. After some time, the option price will then move up accordingly."
   ]
  },
  {
   "cell_type": "markdown",
   "metadata": {},
   "source": [
    "#####"
   ]
  },
  {
   "cell_type": "code",
   "execution_count": null,
   "metadata": {},
   "outputs": [],
   "source": [
    "# imports\n",
    "import numpy as np\n",
    "import pandas as pd\n",
    "import os\n",
    "import sys\n",
    "sys.path.insert(1, '../essential_files')\n",
    "import historical_data as hd"
   ]
  },
  {
   "cell_type": "code",
   "execution_count": null,
   "metadata": {},
   "outputs": [],
   "source": [
    "# To test the hypothesis, we will first look at the correlation between stock and option prices for different time deltas (1 sec, 2 secs, etc.).\n",
    "\n",
    "# Get banknifty data on 17th May 2024\n",
    "banknifty_data = hd.get_equity_historical_data(start_date='2024-05-17T09:15:00.000Z', end_date='2024-05-17T16:00:00.000Z', stock_code='CNXBAN', time_interval='1second')\n",
    "print(banknifty_data.head())"
   ]
  },
  {
   "cell_type": "code",
   "execution_count": null,
   "metadata": {},
   "outputs": [],
   "source": [
    "# Strike of 47900\n",
    "options_data = hd.get_option_historical_data(start_date = \"2024-05-17T09:15:00.000Z\", end_date = \"2024-05-17T15:30:00.000Z\", expiry = \"2024-05-22T09:15:00.000Z\", strike = 47900, stock_code=\"CNXBAN\", time_interval=\"1second\", right=\"Call\")\n",
    "print(options_data.head())"
   ]
  },
  {
   "cell_type": "code",
   "execution_count": null,
   "metadata": {},
   "outputs": [],
   "source": [
    "print(banknifty_data.columns)"
   ]
  },
  {
   "cell_type": "code",
   "execution_count": null,
   "metadata": {},
   "outputs": [],
   "source": [
    "import pandas as pd\n",
    "from sklearn.preprocessing import MinMaxScaler\n",
    "\n",
    "# Load the data\n",
    "data = pd.read_csv(r'C:\\Users\\Mridul\\Documents\\New Trading\\Data\\CNXBAN_1minute2024_05_17.csv')\n",
    "\n",
    "# Drop columns with all NaN values\n",
    "data_clean = data.drop(columns=['Unnamed: 0', 'product_type', 'expiry_date', 'right', 'strike_price', 'volume', 'open_interest'])\n",
    "\n",
    "# Convert 'datetime' column to datetime format\n",
    "data_clean['datetime'] = pd.to_datetime(data_clean['datetime'])\n",
    "\n",
    "# Set 'datetime' as the index\n",
    "data_clean.set_index('datetime', inplace=True)\n",
    "\n",
    "# Scale the data\n",
    "scaler = MinMaxScaler()\n",
    "scaled_data = scaler.fit_transform(data_clean[['open', 'high', 'low', 'close', 'count']])\n",
    "\n",
    "# Define a function to create sequences\n",
    "def create_sequences(data, seq_length):\n",
    "    xs, ys = [], []\n",
    "    for i in range(len(data) - seq_length):\n",
    "        x = data[i:i+seq_length]\n",
    "        y = data[i+seq_length][3]  # 'close' price is at index 3\n",
    "        xs.append(x)\n",
    "        ys.append(y)\n",
    "    return np.array(xs), np.array(ys)\n",
    "\n",
    "seq_length = 60  # e.g., using the last 60 minutes to predict the next minute\n",
    "X, y = create_sequences(scaled_data, seq_length)\n",
    "\n",
    "# Split into training and test sets\n",
    "split = int(0.8 * len(X))\n",
    "X_train, X_test = X[:split], X[split:]\n",
    "y_train, y_test = y[:split], y[split:]\n",
    "\n",
    "# Build the LSTM model\n",
    "import tensorflow as tf\n",
    "from tensorflow.keras.models import Sequential\n",
    "from tensorflow.keras.layers import LSTM, Dense\n",
    "\n",
    "model = Sequential()\n",
    "model.add(LSTM(50, return_sequences=True, input_shape=(seq_length, 5)))\n",
    "model.add(LSTM(50))\n",
    "model.add(Dense(1))\n",
    "\n",
    "# Compile the model\n",
    "model.compile(optimizer='adam', loss='mean_squared_error')\n",
    "\n",
    "# Train the model\n",
    "history = model.fit(X_train, y_train, epochs=20, batch_size=32, validation_split=0.1)\n",
    "\n",
    "# Evaluate the model\n",
    "loss = model.evaluate(X_test, y_test)\n",
    "print(f'Test Loss: {loss}')\n",
    "\n",
    "# Make predictions\n",
    "y_pred = model.predict(X_test)\n",
    "\n",
    "# Inverse transform the predictions and true values to original scale\n",
    "y_pred_inverse = scaler.inverse_transform(\n",
    "    np.hstack((np.zeros((y_pred.shape[0], 3)), y_pred, np.zeros((y_pred.shape[0], 1)))))[:, 3]\n",
    "y_test_inverse = scaler.inverse_transform(\n",
    "    np.hstack((np.zeros((y_test.shape[0], 3)), y_test.reshape(-1, 1), np.zeros((y_test.shape[0], 1)))))[:, 3]\n",
    "\n",
    "# Plot the predictions against the actual values\n",
    "import matplotlib.pyplot as plt\n",
    "\n",
    "plt.figure(figsize=(10, 6))\n",
    "plt.plot(y_test_inverse, label='True')\n",
    "plt.plot(y_pred_inverse, label='Predicted')\n",
    "plt.legend()\n",
    "plt.show()\n"
   ]
  },
  {
   "cell_type": "code",
   "execution_count": 2,
   "metadata": {},
   "outputs": [
    {
     "name": "stdout",
     "output_type": "stream",
     "text": [
      "Epoch 1/20\n"
     ]
    },
    {
     "name": "stderr",
     "output_type": "stream",
     "text": [
      "c:\\Users\\Mridul\\anaconda3\\envs\\yfinance\\Lib\\site-packages\\keras\\src\\layers\\rnn\\rnn.py:204: UserWarning: Do not pass an `input_shape`/`input_dim` argument to a layer. When using Sequential models, prefer using an `Input(shape)` object as the first layer in the model instead.\n",
      "  super().__init__(**kwargs)\n"
     ]
    },
    {
     "name": "stdout",
     "output_type": "stream",
     "text": [
      "\u001b[1m10/10\u001b[0m \u001b[32m━━━━━━━━━━━━━━━━━━━━\u001b[0m\u001b[37m\u001b[0m \u001b[1m5s\u001b[0m 99ms/step - loss: 0.3465 - val_loss: 0.1766\n",
      "Epoch 2/20\n",
      "\u001b[1m10/10\u001b[0m \u001b[32m━━━━━━━━━━━━━━━━━━━━\u001b[0m\u001b[37m\u001b[0m \u001b[1m0s\u001b[0m 30ms/step - loss: 0.1207 - val_loss: 0.0403\n",
      "Epoch 3/20\n",
      "\u001b[1m10/10\u001b[0m \u001b[32m━━━━━━━━━━━━━━━━━━━━\u001b[0m\u001b[37m\u001b[0m \u001b[1m0s\u001b[0m 32ms/step - loss: 0.0394 - val_loss: 0.0055\n",
      "Epoch 4/20\n",
      "\u001b[1m10/10\u001b[0m \u001b[32m━━━━━━━━━━━━━━━━━━━━\u001b[0m\u001b[37m\u001b[0m \u001b[1m1s\u001b[0m 33ms/step - loss: 0.0225 - val_loss: 0.0045\n",
      "Epoch 5/20\n",
      "\u001b[1m10/10\u001b[0m \u001b[32m━━━━━━━━━━━━━━━━━━━━\u001b[0m\u001b[37m\u001b[0m \u001b[1m0s\u001b[0m 31ms/step - loss: 0.0187 - val_loss: 0.0043\n",
      "Epoch 6/20\n",
      "\u001b[1m10/10\u001b[0m \u001b[32m━━━━━━━━━━━━━━━━━━━━\u001b[0m\u001b[37m\u001b[0m \u001b[1m0s\u001b[0m 32ms/step - loss: 0.0173 - val_loss: 0.0031\n",
      "Epoch 7/20\n",
      "\u001b[1m10/10\u001b[0m \u001b[32m━━━━━━━━━━━━━━━━━━━━\u001b[0m\u001b[37m\u001b[0m \u001b[1m0s\u001b[0m 31ms/step - loss: 0.0163 - val_loss: 0.0046\n",
      "Epoch 8/20\n",
      "\u001b[1m10/10\u001b[0m \u001b[32m━━━━━━━━━━━━━━━━━━━━\u001b[0m\u001b[37m\u001b[0m \u001b[1m1s\u001b[0m 51ms/step - loss: 0.0165 - val_loss: 0.0037\n",
      "Epoch 9/20\n",
      "\u001b[1m10/10\u001b[0m \u001b[32m━━━━━━━━━━━━━━━━━━━━\u001b[0m\u001b[37m\u001b[0m \u001b[1m1s\u001b[0m 52ms/step - loss: 0.0138 - val_loss: 0.0036\n",
      "Epoch 10/20\n",
      "\u001b[1m10/10\u001b[0m \u001b[32m━━━━━━━━━━━━━━━━━━━━\u001b[0m\u001b[37m\u001b[0m \u001b[1m1s\u001b[0m 56ms/step - loss: 0.0139 - val_loss: 0.0025\n",
      "Epoch 11/20\n",
      "\u001b[1m10/10\u001b[0m \u001b[32m━━━━━━━━━━━━━━━━━━━━\u001b[0m\u001b[37m\u001b[0m \u001b[1m1s\u001b[0m 46ms/step - loss: 0.0151 - val_loss: 0.0030\n",
      "Epoch 12/20\n",
      "\u001b[1m10/10\u001b[0m \u001b[32m━━━━━━━━━━━━━━━━━━━━\u001b[0m\u001b[37m\u001b[0m \u001b[1m0s\u001b[0m 48ms/step - loss: 0.0132 - val_loss: 0.0037\n",
      "Epoch 13/20\n",
      "\u001b[1m10/10\u001b[0m \u001b[32m━━━━━━━━━━━━━━━━━━━━\u001b[0m\u001b[37m\u001b[0m \u001b[1m1s\u001b[0m 53ms/step - loss: 0.0139 - val_loss: 0.0055\n",
      "Epoch 14/20\n",
      "\u001b[1m10/10\u001b[0m \u001b[32m━━━━━━━━━━━━━━━━━━━━\u001b[0m\u001b[37m\u001b[0m \u001b[1m0s\u001b[0m 44ms/step - loss: 0.0150 - val_loss: 0.0027\n",
      "Epoch 15/20\n",
      "\u001b[1m10/10\u001b[0m \u001b[32m━━━━━━━━━━━━━━━━━━━━\u001b[0m\u001b[37m\u001b[0m \u001b[1m1s\u001b[0m 53ms/step - loss: 0.0118 - val_loss: 0.0031\n",
      "Epoch 16/20\n",
      "\u001b[1m10/10\u001b[0m \u001b[32m━━━━━━━━━━━━━━━━━━━━\u001b[0m\u001b[37m\u001b[0m \u001b[1m1s\u001b[0m 48ms/step - loss: 0.0122 - val_loss: 0.0028\n",
      "Epoch 17/20\n",
      "\u001b[1m10/10\u001b[0m \u001b[32m━━━━━━━━━━━━━━━━━━━━\u001b[0m\u001b[37m\u001b[0m \u001b[1m1s\u001b[0m 44ms/step - loss: 0.0119 - val_loss: 0.0033\n",
      "Epoch 18/20\n",
      "\u001b[1m10/10\u001b[0m \u001b[32m━━━━━━━━━━━━━━━━━━━━\u001b[0m\u001b[37m\u001b[0m \u001b[1m1s\u001b[0m 48ms/step - loss: 0.0112 - val_loss: 0.0040\n",
      "Epoch 19/20\n",
      "\u001b[1m10/10\u001b[0m \u001b[32m━━━━━━━━━━━━━━━━━━━━\u001b[0m\u001b[37m\u001b[0m \u001b[1m1s\u001b[0m 48ms/step - loss: 0.0117 - val_loss: 0.0027\n",
      "Epoch 20/20\n",
      "\u001b[1m10/10\u001b[0m \u001b[32m━━━━━━━━━━━━━━━━━━━━\u001b[0m\u001b[37m\u001b[0m \u001b[1m1s\u001b[0m 49ms/step - loss: 0.0102 - val_loss: 0.0029\n",
      "\u001b[1m3/3\u001b[0m \u001b[32m━━━━━━━━━━━━━━━━━━━━\u001b[0m\u001b[37m\u001b[0m \u001b[1m0s\u001b[0m 29ms/step - loss: 0.0083\n",
      "Test Loss: 0.009578438475728035\n",
      "\u001b[1m3/3\u001b[0m \u001b[32m━━━━━━━━━━━━━━━━━━━━\u001b[0m\u001b[37m\u001b[0m \u001b[1m1s\u001b[0m 247ms/step\n"
     ]
    },
    {
     "data": {
      "image/png": "[encoded data removed]",
      "text/plain": [
       "<Figure size 1000x600 with 1 Axes>"
      ]
     },
     "metadata": {},
     "output_type": "display_data"
    }
   ],
   "source": [
    "import pandas as pd\n",
    "import numpy as np\n",
    "from sklearn.preprocessing import MinMaxScaler\n",
    "from tensorflow.keras.models import Sequential\n",
    "from tensorflow.keras.layers import LSTM, Dense\n",
    "import matplotlib.pyplot as plt\n",
    "\n",
    "# Load the data\n",
    "data = pd.read_csv(r'C:\\Users\\Mridul\\Documents\\New Trading\\Data\\CNXBAN_1minute2024_05_17.csv')\n",
    "\n",
    "# Drop columns with all NaN values\n",
    "data_clean = data.drop(columns=['Unnamed: 0', 'product_type', 'expiry_date', 'right', 'strike_price', 'volume', 'open_interest'])\n",
    "\n",
    "# Convert 'datetime' column to datetime format\n",
    "data_clean['datetime'] = pd.to_datetime(data_clean['datetime'])\n",
    "\n",
    "# Set 'datetime' as the index\n",
    "data_clean.set_index('datetime', inplace=True)\n",
    "\n",
    "# Scale the data\n",
    "scaler = MinMaxScaler()\n",
    "scaled_data = scaler.fit_transform(data_clean[['open', 'high', 'low', 'close', 'count']])\n",
    "\n",
    "# Define a function to create sequences for predicting the next 20 minutes\n",
    "def create_sequences(data, seq_length, pred_length):\n",
    "    xs, ys = [], []\n",
    "    for i in range(len(data) - seq_length - pred_length):\n",
    "        x = data[i:i+seq_length]\n",
    "        y = data[i+seq_length:i+seq_length+pred_length, 3]  # 'close' price is at index 3\n",
    "        xs.append(x)\n",
    "        ys.append(y)\n",
    "    return np.array(xs), np.array(ys)\n",
    "\n",
    "seq_length = 60  # e.g., using the last 60 minutes\n",
    "pred_length = 20  # predicting the next 20 minutes\n",
    "X, y = create_sequences(scaled_data, seq_length, pred_length)\n",
    "\n",
    "# Split into training and test sets\n",
    "split = int(0.8 * len(X))\n",
    "X_train, X_test = X[:split], X[split:]\n",
    "y_train, y_test = y[:split], y[split:]\n",
    "\n",
    "# Build the LSTM model\n",
    "model = Sequential()\n",
    "model.add(LSTM(50, return_sequences=True, input_shape=(seq_length, 5)))\n",
    "model.add(LSTM(50))\n",
    "model.add(Dense(pred_length))\n",
    "\n",
    "# Compile the model\n",
    "model.compile(optimizer='adam', loss='mean_squared_error')\n",
    "\n",
    "# Train the model\n",
    "history = model.fit(X_train, y_train, epochs=20, batch_size=32, validation_split=0.1)\n",
    "\n",
    "# Evaluate the model\n",
    "loss = model.evaluate(X_test, y_test)\n",
    "print(f'Test Loss: {loss}')\n",
    "\n",
    "# Make predictions\n",
    "y_pred = model.predict(X_test)\n",
    "\n",
    "# Inverse transform the predictions and true values to original scale\n",
    "y_pred_reshaped = y_pred.reshape(-1, 1)\n",
    "y_test_reshaped = y_test.reshape(-1, 1)\n",
    "\n",
    "# Stack with zeros\n",
    "y_pred_with_zeros = np.hstack((np.zeros((y_pred_reshaped.shape[0], 3)), y_pred_reshaped, np.zeros((y_pred_reshaped.shape[0], 1))))\n",
    "y_test_with_zeros = np.hstack((np.zeros((y_test_reshaped.shape[0], 3)), y_test_reshaped, np.zeros((y_test_reshaped.shape[0], 1))))\n",
    "\n",
    "# Inverse transform\n",
    "y_pred_inverse = scaler.inverse_transform(y_pred_with_zeros)[:, 3].reshape(-1, pred_length)\n",
    "y_test_inverse = scaler.inverse_transform(y_test_with_zeros)[:, 3].reshape(-1, pred_length)\n",
    "\n",
    "# Plot the predictions against the actual values for the first instance in the test set\n",
    "plt.figure(figsize=(10, 6))\n",
    "plt.plot(y_test_inverse[0], label='True')\n",
    "plt.plot(y_pred_inverse[0], label='Predicted')\n",
    "plt.legend()\n",
    "plt.show()\n"
   ]
  },
  {
   "cell_type": "code",
   "execution_count": 4,
   "metadata": {},
   "outputs": [
    {
     "name": "stdout",
     "output_type": "stream",
     "text": [
      "Mean Absolute Error (MAE): 33.50655081381472\n",
      "Mean Squared Error (MSE): 1604.2501582502182\n",
      "Root Mean Squared Error (RMSE): 40.053091743961765\n"
     ]
    }
   ],
   "source": [
    "from sklearn.metrics import mean_absolute_error, mean_squared_error\n",
    "\n",
    "mae = mean_absolute_error(y_test_inverse, y_pred_inverse)\n",
    "mse = mean_squared_error(y_test_inverse, y_pred_inverse)\n",
    "rmse = np.sqrt(mse)\n",
    "\n",
    "print(f'Mean Absolute Error (MAE): {mae}')\n",
    "print(f'Mean Squared Error (MSE): {mse}')\n",
    "print(f'Root Mean Squared Error (RMSE): {rmse}')"
   ]
  },
  {
   "cell_type": "code",
   "execution_count": null,
   "metadata": {},
   "outputs": [],
   "source": []
  },
  {
   "cell_type": "code",
   "execution_count": null,
   "metadata": {},
   "outputs": [],
   "source": []
  },
  {
   "cell_type": "code",
   "execution_count": null,
   "metadata": {},
   "outputs": [],
   "source": []
  },
  {
   "cell_type": "code",
   "execution_count": null,
   "metadata": {},
   "outputs": [],
   "source": []
  },
  {
   "cell_type": "code",
   "execution_count": null,
   "metadata": {},
   "outputs": [],
   "source": [
    "# Extracting relevant columns\n",
    "cnxban_df = banknifty_data[['datetime', 'close']]\n",
    "cnxban_options_df = options_data[['datetime', 'close']]\n",
    "\n",
    "# Renaming columns to avoid confusion\n",
    "cnxban_df.rename(columns={'close': 'close_cnxban'}, inplace=True)\n",
    "cnxban_options_df.rename(columns={'close': 'close_options'}, inplace=True)\n",
    "\n",
    "# Merging dataframes on 'datetime'\n",
    "merged_df = pd.merge(cnxban_df, cnxban_options_df, on='datetime', how='inner')\n",
    "\n",
    "# Display the first few rows of the merged dataframe\n",
    "merged_df.head()\n"
   ]
  },
  {
   "cell_type": "code",
   "execution_count": null,
   "metadata": {},
   "outputs": [],
   "source": [
    "y1 = merged_df['close_cnxban'].astype(float)\n",
    "y2 = merged_df['close_options'].astype(float)"
   ]
  },
  {
   "cell_type": "code",
   "execution_count": null,
   "metadata": {},
   "outputs": [],
   "source": [
    "def get_corr(y1, y2, delta):\n",
    "    # Get correlation coefficient between stock and option prices for a given time delta\n",
    "    # y1: stock prices\n",
    "    # y2: option prices\n",
    "    # delta: time delta in seconds\n",
    "    if delta>0:\n",
    "        new_y1 = y1[:-delta]\n",
    "        new_y2 = y2[delta:]\n",
    "        \n",
    "        # print(new_y1, new_y2)\n",
    "\n",
    "        return np.corrcoef(new_y1, new_y2)[0, 1]\n",
    "    elif delta <0:\n",
    "        new_y1 = y1[-delta:]\n",
    "        new_y2 = y2[:delta]\n",
    "        # print(new_y1, new_y2)\n",
    "\n",
    "        return np.corrcoef(new_y1, new_y2)[0, 1]\n",
    "    else:\n",
    "        return np.corrcoef(y1, y2)[0, 1]"
   ]
  },
  {
   "cell_type": "code",
   "execution_count": null,
   "metadata": {},
   "outputs": [],
   "source": [
    "for delta in range(-60,60):\n",
    "    corr = get_corr(y1, y2, delta)\n",
    "    print(f\"Correlation between stock and option prices for delta = {delta} is {corr}\")"
   ]
  }
 ],
 "metadata": {
  "kernelspec": {
   "display_name": "yfinance",
   "language": "python",
   "name": "python3"
  },
  "language_info": {
   "codemirror_mode": {
    "name": "ipython",
    "version": 3
   },
   "file_extension": ".py",
   "mimetype": "text/x-python",
   "name": "python",
   "nbconvert_exporter": "python",
   "pygments_lexer": "ipython3",
   "version": "3.12.2"
  }
 },
 "nbformat": 4,
 "nbformat_minor": 2
}

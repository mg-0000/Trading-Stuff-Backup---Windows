{
 "cells": [
  {
   "cell_type": "code",
   "execution_count": 39,
   "metadata": {},
   "outputs": [],
   "source": [
    "import pandas as pd\n",
    "import numpy as np\n",
    "import ta\n",
    "\n",
    "# Import KMeans from sklearn\n",
    "from sklearn.cluster import KMeans\n",
    "from sklearn.linear_model import LinearRegression\n",
    "\n",
    "import yfinance as yf\n",
    "from pandas_datareader import data as pdr\n",
    "yf.pdr_override()"
   ]
  },
  {
   "cell_type": "code",
   "execution_count": 2,
   "metadata": {},
   "outputs": [
    {
     "name": "stderr",
     "output_type": "stream",
     "text": [
      "[*********************100%%**********************]  1 of 1 completed\n"
     ]
    }
   ],
   "source": [
    "# Get data\n",
    "data = yf.download('^NSEBANK', start=\"2021-05-01\", end=\"2024-05-01\")"
   ]
  },
  {
   "cell_type": "code",
   "execution_count": 3,
   "metadata": {},
   "outputs": [
    {
     "name": "stdout",
     "output_type": "stream",
     "text": [
      "                    Open          High           Low         Close  \\\n",
      "Date                                                                 \n",
      "2021-05-03  32368.550781  32566.599609  31906.550781  32465.750000   \n",
      "2021-05-04  32610.400391  33011.550781  32191.400391  32270.349609   \n",
      "2021-05-05  32577.099609  32862.148438  32068.550781  32783.699219   \n",
      "2021-05-06  32900.750000  32956.351562  32564.000000  32827.800781   \n",
      "2021-05-07  33041.648438  33259.148438  32771.351562  32904.500000   \n",
      "\n",
      "               Adj Close  Volume  \n",
      "Date                              \n",
      "2021-05-03  32465.373047  351000  \n",
      "2021-05-04  32269.974609  786800  \n",
      "2021-05-05  32783.316406       0  \n",
      "2021-05-06  32827.417969       0  \n",
      "2021-05-07  32904.117188       0  \n"
     ]
    }
   ],
   "source": [
    "print(data.head())"
   ]
  },
  {
   "cell_type": "code",
   "execution_count": 4,
   "metadata": {},
   "outputs": [],
   "source": [
    "def calculate_psy(closing_prices, period=13):\n",
    "    \"\"\"\n",
    "    Calculate the 13-day rolling PSY (Psychological Line) for a list of closing prices.\n",
    "    \n",
    "    Parameters:\n",
    "    closing_prices (list or pd.Series): List or Series of closing prices.\n",
    "    period (int): Number of periods to calculate the PSY, default is 13.\n",
    "    \n",
    "    Returns:\n",
    "    pd.Series: Series of PSY values.\n",
    "    \"\"\"\n",
    "    # Convert closing_prices to a pandas Series if it's not already\n",
    "    if not isinstance(closing_prices, pd.Series):\n",
    "        closing_prices = pd.Series(closing_prices)\n",
    "    \n",
    "    # Calculate the number of rising periods in each rolling window\n",
    "    rising_periods = (closing_prices.diff() > 0).astype(int).rolling(window=period).sum()\n",
    "    \n",
    "    # Calculate the PSY\n",
    "    psy = (rising_periods / period) * 100\n",
    "    \n",
    "    return psy"
   ]
  },
  {
   "cell_type": "code",
   "execution_count": 5,
   "metadata": {},
   "outputs": [],
   "source": [
    "data['MA']= ta.trend.sma_indicator(data['Close'], window=6, fillna=True)\n",
    "data['BIAS'] = (data['Close'] - data['MA']) \n",
    "data['RSI'] = ta.momentum.rsi(data['Close'], window=6, fillna=True)\n",
    "data['stochrsi_k'] = ta.momentum.stochrsi_k(data['Close'], window=9, fillna=True)\n",
    "data['stochrsi_d'] = ta.momentum.stochrsi_d(data['Close'], window=9, fillna=True)\n",
    "data['MACD'] = ta.trend.macd(data['Close'], window_slow=20, window_fast=9, fillna=True)\n",
    "data['PSY'] = calculate_psy(data['Close'])\n",
    "data.drop(columns=['Open', 'High', 'Low', 'Adj Close'], inplace=True)"
   ]
  },
  {
   "cell_type": "code",
   "execution_count": 58,
   "metadata": {},
   "outputs": [
    {
     "name": "stdout",
     "output_type": "stream",
     "text": [
      "                   Close  Volume            MA         BIAS         RSI  \\\n",
      "Date                                                                      \n",
      "2021-05-03  32465.750000  351000  32465.750000     0.000000  100.000000   \n",
      "2021-05-04  32270.349609  786800  32368.049805   -97.700195    0.000000   \n",
      "2021-05-05  32783.699219       0  32506.599609   277.099609   75.918709   \n",
      "2021-05-06  32827.800781       0  32586.899902   240.900879   77.666642   \n",
      "2021-05-07  32904.500000       0  32650.419922   254.080078   80.604697   \n",
      "...                  ...     ...           ...          ...         ...   \n",
      "2024-04-24  48189.000000  112200  47702.124349   486.875651   59.841015   \n",
      "2024-04-25  48494.949219  337400  47870.482422   624.466797   66.589393   \n",
      "2024-04-26  48201.050781  208100  48059.082682   141.968099   55.783688   \n",
      "2024-04-29  49424.050781  327100  48367.399740  1056.651042   75.575465   \n",
      "2024-04-30  49396.750000  402900  48612.708333   784.041667   74.680025   \n",
      "\n",
      "            stochrsi_k  stochrsi_d        MACD        PSY  \n",
      "Date                                                       \n",
      "2021-05-03    0.000000    0.000000    0.000000        NaN  \n",
      "2021-05-04    0.000000    0.000000  -20.470517        NaN  \n",
      "2021-05-05    0.000000    0.000000   18.882125        NaN  \n",
      "2021-05-06    0.000000    0.000000   51.626447        NaN  \n",
      "2021-05-07    0.000000    0.000000   82.378894        NaN  \n",
      "...                ...         ...         ...        ...  \n",
      "2024-04-24    0.394326    0.301974  172.579158  69.230769  \n",
      "2024-04-25    0.555064    0.422434  217.264461  69.230769  \n",
      "2024-04-26    0.673688    0.541026  214.680378  61.538462  \n",
      "2024-04-29    0.855588    0.694780  336.844653  61.538462  \n",
      "2024-04-30    0.903536    0.810937  415.992149  53.846154  \n",
      "\n",
      "[738 rows x 9 columns]\n"
     ]
    }
   ],
   "source": [
    "print(data)"
   ]
  },
  {
   "cell_type": "code",
   "execution_count": 6,
   "metadata": {},
   "outputs": [
    {
     "name": "stdout",
     "output_type": "stream",
     "text": [
      "Index(['Close', 'Volume', 'MA', 'BIAS', 'RSI', 'stochrsi_k', 'stochrsi_d',\n",
      "       'MACD', 'PSY'],\n",
      "      dtype='object')\n"
     ]
    }
   ],
   "source": [
    "print(data.columns)"
   ]
  },
  {
   "cell_type": "code",
   "execution_count": 7,
   "metadata": {},
   "outputs": [
    {
     "name": "stdout",
     "output_type": "stream",
     "text": [
      "DatetimeIndex(['2021-05-03', '2021-05-04', '2021-05-05', '2021-05-06',\n",
      "               '2021-05-07', '2021-05-10', '2021-05-11', '2021-05-12',\n",
      "               '2021-05-14', '2021-05-17',\n",
      "               ...\n",
      "               '2024-04-16', '2024-04-18', '2024-04-19', '2024-04-22',\n",
      "               '2024-04-23', '2024-04-24', '2024-04-25', '2024-04-26',\n",
      "               '2024-04-29', '2024-04-30'],\n",
      "              dtype='datetime64[ns]', name='Date', length=738, freq=None)\n"
     ]
    }
   ],
   "source": [
    "print(data.index)"
   ]
  },
  {
   "cell_type": "code",
   "execution_count": 15,
   "metadata": {},
   "outputs": [],
   "source": [
    "# Fill missing values (zeros and nas and missing dates)\n",
    "data.replace([0, 0.0], np.nan, inplace=True)\n",
    "data.interpolate(method='time', inplace=True)\n",
    "data.dropna(inplace=True)"
   ]
  },
  {
   "cell_type": "code",
   "execution_count": 16,
   "metadata": {},
   "outputs": [
    {
     "name": "stdout",
     "output_type": "stream",
     "text": [
      "(726, 9)                    Close         Volume            MA         BIAS        RSI  \\\n",
      "Date                                                                            \n",
      "2021-05-20  33334.550781  614993.103448  33170.541667   164.009115  56.176140   \n",
      "2021-05-21  34606.898438  604255.172414  33529.641276  1077.257161  74.063461   \n",
      "2021-05-24  34943.601562  572041.379310  33991.983073   951.618490  77.039500   \n",
      "2021-05-25  34662.000000  561303.448276  34192.441406   469.558594  69.083905   \n",
      "2021-05-26  34684.199219  550565.517241  34319.408203   364.791016  69.382998   \n",
      "...                  ...            ...           ...          ...        ...   \n",
      "2024-04-24  48189.000000  112200.000000  47702.124349   486.875651  59.841015   \n",
      "2024-04-25  48494.949219  337400.000000  47870.482422   624.466797  66.589393   \n",
      "2024-04-26  48201.050781  208100.000000  48059.082682   141.968099  55.783688   \n",
      "2024-04-29  49424.050781  327100.000000  48367.399740  1056.651042  75.575465   \n",
      "2024-04-30  49396.750000  402900.000000  48612.708333   784.041667  74.680025   \n",
      "\n",
      "            stochrsi_k  stochrsi_d        MACD        PSY  \n",
      "Date                                                       \n",
      "2021-05-20    0.614998    0.655060  266.803495  46.153846  \n",
      "2021-05-21    0.612611    0.650243  391.374451  53.846154  \n",
      "2021-05-24    0.736461    0.654690  509.359005  61.538462  \n",
      "2021-05-25    0.866470    0.738514  555.554156  53.846154  \n",
      "2021-05-26    0.903640    0.835524  580.734295  53.846154  \n",
      "...                ...         ...         ...        ...  \n",
      "2024-04-24    0.394326    0.301974  172.579158  69.230769  \n",
      "2024-04-25    0.555064    0.422434  217.264461  69.230769  \n",
      "2024-04-26    0.673688    0.541026  214.680378  61.538462  \n",
      "2024-04-29    0.855588    0.694780  336.844653  61.538462  \n",
      "2024-04-30    0.903536    0.810937  415.992149  53.846154  \n",
      "\n",
      "[726 rows x 9 columns]\n"
     ]
    }
   ],
   "source": [
    "print(data.shape, data)"
   ]
  },
  {
   "cell_type": "code",
   "execution_count": 17,
   "metadata": {},
   "outputs": [
    {
     "name": "stdout",
     "output_type": "stream",
     "text": [
      "(726, 9)                    Close         Volume            MA         BIAS        RSI  \\\n",
      "Date                                                                            \n",
      "2021-05-20  33334.550781  614993.103448  33170.541667   164.009115  56.176140   \n",
      "2021-05-21  34606.898438  604255.172414  33529.641276  1077.257161  74.063461   \n",
      "2021-05-24  34943.601562  572041.379310  33991.983073   951.618490  77.039500   \n",
      "2021-05-25  34662.000000  561303.448276  34192.441406   469.558594  69.083905   \n",
      "2021-05-26  34684.199219  550565.517241  34319.408203   364.791016  69.382998   \n",
      "...                  ...            ...           ...          ...        ...   \n",
      "2024-04-24  48189.000000  112200.000000  47702.124349   486.875651  59.841015   \n",
      "2024-04-25  48494.949219  337400.000000  47870.482422   624.466797  66.589393   \n",
      "2024-04-26  48201.050781  208100.000000  48059.082682   141.968099  55.783688   \n",
      "2024-04-29  49424.050781  327100.000000  48367.399740  1056.651042  75.575465   \n",
      "2024-04-30  49396.750000  402900.000000  48612.708333   784.041667  74.680025   \n",
      "\n",
      "            stochrsi_k  stochrsi_d        MACD        PSY  \n",
      "Date                                                       \n",
      "2021-05-20    0.614998    0.655060  266.803495  46.153846  \n",
      "2021-05-21    0.612611    0.650243  391.374451  53.846154  \n",
      "2021-05-24    0.736461    0.654690  509.359005  61.538462  \n",
      "2021-05-25    0.866470    0.738514  555.554156  53.846154  \n",
      "2021-05-26    0.903640    0.835524  580.734295  53.846154  \n",
      "...                ...         ...         ...        ...  \n",
      "2024-04-24    0.394326    0.301974  172.579158  69.230769  \n",
      "2024-04-25    0.555064    0.422434  217.264461  69.230769  \n",
      "2024-04-26    0.673688    0.541026  214.680378  61.538462  \n",
      "2024-04-29    0.855588    0.694780  336.844653  61.538462  \n",
      "2024-04-30    0.903536    0.810937  415.992149  53.846154  \n",
      "\n",
      "[726 rows x 9 columns]\n"
     ]
    }
   ],
   "source": [
    "print(data.shape, data)"
   ]
  },
  {
   "cell_type": "code",
   "execution_count": 18,
   "metadata": {},
   "outputs": [
    {
     "name": "stdout",
     "output_type": "stream",
     "text": [
      "                   Close         Volume            MA         BIAS        RSI  \\\n",
      "Date                                                                            \n",
      "2021-05-20  33334.550781  614993.103448  33170.541667   164.009115  56.176140   \n",
      "2021-05-21  34606.898438  604255.172414  33529.641276  1077.257161  74.063461   \n",
      "2021-05-24  34943.601562  572041.379310  33991.983073   951.618490  77.039500   \n",
      "2021-05-25  34662.000000  561303.448276  34192.441406   469.558594  69.083905   \n",
      "2021-05-26  34684.199219  550565.517241  34319.408203   364.791016  69.382998   \n",
      "2021-05-27  35095.050781  539827.586207  34554.383464   540.667318  74.797856   \n",
      "2021-05-28  35141.449219  529089.655172  34855.533203   285.916016  75.387752   \n",
      "2021-05-31  35526.648438  496875.862069  35008.824870   517.823568  80.041727   \n",
      "2021-06-01  35337.199219  486137.931034  35074.424479   262.774740  72.005917   \n",
      "2021-06-02  35373.750000  475400.000000  35193.049479   180.700521  72.641813   \n",
      "2021-06-03  35649.000000  464662.068966  35353.849609   295.150391  77.301248   \n",
      "2021-06-04  35291.648438  453924.137931  35386.615885   -94.967448  61.091497   \n",
      "2021-06-07  35443.648438  421710.344828  35436.982422     6.666016  64.853359   \n",
      "2021-06-08  35085.300781  410972.413793  35363.424479  -278.123698  50.924204   \n",
      "2021-06-09  34800.500000  400234.482759  35273.974609  -473.474609  42.266439   \n",
      "\n",
      "            stochrsi_k  stochrsi_d        MACD        PSY  \n",
      "Date                                                       \n",
      "2021-05-20    0.614998    0.655060  266.803495  46.153846  \n",
      "2021-05-21    0.612611    0.650243  391.374451  53.846154  \n",
      "2021-05-24    0.736461    0.654690  509.359005  61.538462  \n",
      "2021-05-25    0.866470    0.738514  555.554156  53.846154  \n",
      "2021-05-26    0.903640    0.835524  580.734295  53.846154  \n",
      "2021-05-27    0.868384    0.879498  630.939906  53.846154  \n",
      "2021-05-28    0.890652    0.887559  660.122091  53.846154  \n",
      "2021-05-31    0.937930    0.898989  709.024884  61.538462  \n",
      "2021-06-01    0.883385    0.903989  711.068895  61.538462  \n",
      "2021-06-02    0.713967    0.845094  702.833329  69.230769  \n",
      "2021-06-03    0.642485    0.746612  712.320761  69.230769  \n",
      "2021-06-04    0.398954    0.585135  668.183010  61.538462  \n",
      "2021-06-07    0.321745    0.454395  639.432199  69.230769  \n",
      "2021-06-08    0.059893    0.260197  568.901245  69.230769  \n",
      "2021-06-09    0.059893    0.147177  477.177781  61.538462  \n"
     ]
    }
   ],
   "source": [
    "print(data.head(15))"
   ]
  },
  {
   "cell_type": "code",
   "execution_count": 19,
   "metadata": {},
   "outputs": [],
   "source": [
    "data.to_csv('data.csv')"
   ]
  },
  {
   "cell_type": "code",
   "execution_count": 90,
   "metadata": {},
   "outputs": [],
   "source": [
    "data = pd.read_csv('data.csv', index_col='Date', parse_dates=True)\n",
    "data['Next Close'] = data['Close'].shift(-1)\n",
    "data.dropna(inplace=True)"
   ]
  },
  {
   "cell_type": "code",
   "execution_count": 91,
   "metadata": {},
   "outputs": [],
   "source": [
    "# SPlit the data into training, testing and validation sets\n",
    "train = data.loc[:'2023-12-30']\n",
    "test = data.loc['2024-01-01':'2024-03-01']\n",
    "validation = data.loc['2024-03-01':]"
   ]
  },
  {
   "cell_type": "code",
   "execution_count": 92,
   "metadata": {},
   "outputs": [
    {
     "name": "stdout",
     "output_type": "stream",
     "text": [
      "(648, 10) (41, 10) (37, 10)\n"
     ]
    }
   ],
   "source": [
    "print(train.shape, test.shape, validation.shape)"
   ]
  },
  {
   "cell_type": "code",
   "execution_count": 93,
   "metadata": {},
   "outputs": [],
   "source": [
    "# Write a function for performing K Means clustering on a given data\n",
    "def k_means_clustering(data, n_clusters=3):\n",
    "    \"\"\"\n",
    "    Perform K Means clustering on a given dataset.\n",
    "    \n",
    "    Parameters:\n",
    "    data (pd.DataFrame): Dataset to be clustered.\n",
    "    n_clusters (int): Number of clusters to form.\n",
    "    \n",
    "    Returns:\n",
    "    pd.DataFrame: Dataset with an additional column for the cluster labels.\n",
    "    \"\"\"\n",
    "    data_copy = data.copy()\n",
    "    \n",
    "    # Initialize the KMeans model\n",
    "    kmeans = KMeans(n_clusters=n_clusters)\n",
    "    \n",
    "    # Fit the model to the data\n",
    "    data_copy['Cluster'] = kmeans.fit_predict(data)\n",
    "    \n",
    "    return data_copy, kmeans"
   ]
  },
  {
   "cell_type": "code",
   "execution_count": 94,
   "metadata": {},
   "outputs": [
    {
     "name": "stdout",
     "output_type": "stream",
     "text": [
      "Index(['Close', 'Volume', 'MA', 'BIAS', 'RSI', 'stochrsi_k', 'stochrsi_d',\n",
      "       'MACD', 'PSY', 'Next Close'],\n",
      "      dtype='object')\n"
     ]
    }
   ],
   "source": [
    "print(data.columns)"
   ]
  },
  {
   "cell_type": "code",
   "execution_count": 95,
   "metadata": {},
   "outputs": [],
   "source": [
    "# Write a function for the fuzzy-TSK model\n",
    "def fuzzy_tsk_train(data):\n",
    "\n",
    "    # Perform\n",
    "    n_clusters = 9\n",
    "    clustered_data, kmeans = k_means_clustering(data, n_clusters=n_clusters)\n",
    "\n",
    "    models = [None]*n_clusters\n",
    "    # For each cluster, perform linear regression\n",
    "    for cluster in range(9):\n",
    "        # Get the data for the current cluster\n",
    "        cluster_data = clustered_data[clustered_data['Cluster'] == cluster]\n",
    "\n",
    "        # Perform linear regression\n",
    "        Y = cluster_data['Next Close']\n",
    "        X = cluster_data.drop(columns=['Next Close','Close', 'Cluster'])\n",
    "        model = LinearRegression().fit(X, Y)\n",
    "        # model = np.polyfit(X, Y, 1)\n",
    "\n",
    "        # Add the model to the dictionary\n",
    "        models[cluster] = model\n",
    "    return models, kmeans"
   ]
  },
  {
   "cell_type": "code",
   "execution_count": 96,
   "metadata": {},
   "outputs": [],
   "source": [
    "# Write a function to test the fuzzy-TSK model\n",
    "def fuzzy_tsk_test(data, models, kmeans):\n",
    "    # Perform clustering on the test data\n",
    "    test_data = data.copy()\n",
    "    test_data['Cluster'] = kmeans.predict(data)\n",
    "\n",
    "    # Initialize an empty list to store the predictions\n",
    "    predictions = []\n",
    "\n",
    "    # For each row in the test data, make a prediction based on the cluster\n",
    "    for index, row in test_data.iterrows():\n",
    "        # Get the model for the current cluster\n",
    "        model = models[int(row['Cluster'])].predict(row.drop(['Next Close','Close', 'Cluster']).values.reshape(1, -1))\n",
    "\n",
    "        # Make a prediction based on the model\n",
    "        prediction = model[0] \n",
    "\n",
    "        # Add the prediction to the list\n",
    "        predictions.append(prediction)\n",
    "\n",
    "    # Add the predictions to the test data\n",
    "    test_data['Prediction'] = predictions\n",
    "\n",
    "    return test_data"
   ]
  },
  {
   "cell_type": "code",
   "execution_count": 97,
   "metadata": {},
   "outputs": [],
   "source": [
    "# Write a function to evaluate the fuzzy-TSK model\n",
    "def evaluate_fuzzy_tsk(test_data):\n",
    "    # Calculate the mean squared error\n",
    "    mse = ((test_data['Next Close'] - test_data['Prediction']) ** 2).mean()\n",
    "    return mse"
   ]
  },
  {
   "cell_type": "code",
   "execution_count": 98,
   "metadata": {},
   "outputs": [
    {
     "name": "stdout",
     "output_type": "stream",
     "text": [
      "Index(['Close', 'Volume', 'MA', 'BIAS', 'RSI', 'stochrsi_k', 'stochrsi_d',\n",
      "       'MACD', 'PSY', 'Next Close'],\n",
      "      dtype='object')\n"
     ]
    }
   ],
   "source": [
    "print(data.columns)"
   ]
  },
  {
   "cell_type": "code",
   "execution_count": 99,
   "metadata": {},
   "outputs": [
    {
     "name": "stdout",
     "output_type": "stream",
     "text": [
      "Mean Squared Error: 337125.37406247365\n"
     ]
    },
    {
     "name": "stderr",
     "output_type": "stream",
     "text": [
      "c:\\Users\\Mridul\\anaconda3\\envs\\yfinance\\Lib\\site-packages\\sklearn\\cluster\\_kmeans.py:1446: UserWarning: KMeans is known to have a memory leak on Windows with MKL, when there are less chunks than available threads. You can avoid it by setting the environment variable OMP_NUM_THREADS=3.\n",
      "  warnings.warn(\n",
      "c:\\Users\\Mridul\\anaconda3\\envs\\yfinance\\Lib\\site-packages\\sklearn\\base.py:493: UserWarning: X does not have valid feature names, but LinearRegression was fitted with feature names\n",
      "  warnings.warn(\n",
      "c:\\Users\\Mridul\\anaconda3\\envs\\yfinance\\Lib\\site-packages\\sklearn\\base.py:493: UserWarning: X does not have valid feature names, but LinearRegression was fitted with feature names\n",
      "  warnings.warn(\n",
      "c:\\Users\\Mridul\\anaconda3\\envs\\yfinance\\Lib\\site-packages\\sklearn\\base.py:493: UserWarning: X does not have valid feature names, but LinearRegression was fitted with feature names\n",
      "  warnings.warn(\n",
      "c:\\Users\\Mridul\\anaconda3\\envs\\yfinance\\Lib\\site-packages\\sklearn\\base.py:493: UserWarning: X does not have valid feature names, but LinearRegression was fitted with feature names\n",
      "  warnings.warn(\n",
      "c:\\Users\\Mridul\\anaconda3\\envs\\yfinance\\Lib\\site-packages\\sklearn\\base.py:493: UserWarning: X does not have valid feature names, but LinearRegression was fitted with feature names\n",
      "  warnings.warn(\n",
      "c:\\Users\\Mridul\\anaconda3\\envs\\yfinance\\Lib\\site-packages\\sklearn\\base.py:493: UserWarning: X does not have valid feature names, but LinearRegression was fitted with feature names\n",
      "  warnings.warn(\n",
      "c:\\Users\\Mridul\\anaconda3\\envs\\yfinance\\Lib\\site-packages\\sklearn\\base.py:493: UserWarning: X does not have valid feature names, but LinearRegression was fitted with feature names\n",
      "  warnings.warn(\n",
      "c:\\Users\\Mridul\\anaconda3\\envs\\yfinance\\Lib\\site-packages\\sklearn\\base.py:493: UserWarning: X does not have valid feature names, but LinearRegression was fitted with feature names\n",
      "  warnings.warn(\n",
      "c:\\Users\\Mridul\\anaconda3\\envs\\yfinance\\Lib\\site-packages\\sklearn\\base.py:493: UserWarning: X does not have valid feature names, but LinearRegression was fitted with feature names\n",
      "  warnings.warn(\n",
      "c:\\Users\\Mridul\\anaconda3\\envs\\yfinance\\Lib\\site-packages\\sklearn\\base.py:493: UserWarning: X does not have valid feature names, but LinearRegression was fitted with feature names\n",
      "  warnings.warn(\n",
      "c:\\Users\\Mridul\\anaconda3\\envs\\yfinance\\Lib\\site-packages\\sklearn\\base.py:493: UserWarning: X does not have valid feature names, but LinearRegression was fitted with feature names\n",
      "  warnings.warn(\n",
      "c:\\Users\\Mridul\\anaconda3\\envs\\yfinance\\Lib\\site-packages\\sklearn\\base.py:493: UserWarning: X does not have valid feature names, but LinearRegression was fitted with feature names\n",
      "  warnings.warn(\n",
      "c:\\Users\\Mridul\\anaconda3\\envs\\yfinance\\Lib\\site-packages\\sklearn\\base.py:493: UserWarning: X does not have valid feature names, but LinearRegression was fitted with feature names\n",
      "  warnings.warn(\n",
      "c:\\Users\\Mridul\\anaconda3\\envs\\yfinance\\Lib\\site-packages\\sklearn\\base.py:493: UserWarning: X does not have valid feature names, but LinearRegression was fitted with feature names\n",
      "  warnings.warn(\n",
      "c:\\Users\\Mridul\\anaconda3\\envs\\yfinance\\Lib\\site-packages\\sklearn\\base.py:493: UserWarning: X does not have valid feature names, but LinearRegression was fitted with feature names\n",
      "  warnings.warn(\n",
      "c:\\Users\\Mridul\\anaconda3\\envs\\yfinance\\Lib\\site-packages\\sklearn\\base.py:493: UserWarning: X does not have valid feature names, but LinearRegression was fitted with feature names\n",
      "  warnings.warn(\n",
      "c:\\Users\\Mridul\\anaconda3\\envs\\yfinance\\Lib\\site-packages\\sklearn\\base.py:493: UserWarning: X does not have valid feature names, but LinearRegression was fitted with feature names\n",
      "  warnings.warn(\n",
      "c:\\Users\\Mridul\\anaconda3\\envs\\yfinance\\Lib\\site-packages\\sklearn\\base.py:493: UserWarning: X does not have valid feature names, but LinearRegression was fitted with feature names\n",
      "  warnings.warn(\n",
      "c:\\Users\\Mridul\\anaconda3\\envs\\yfinance\\Lib\\site-packages\\sklearn\\base.py:493: UserWarning: X does not have valid feature names, but LinearRegression was fitted with feature names\n",
      "  warnings.warn(\n",
      "c:\\Users\\Mridul\\anaconda3\\envs\\yfinance\\Lib\\site-packages\\sklearn\\base.py:493: UserWarning: X does not have valid feature names, but LinearRegression was fitted with feature names\n",
      "  warnings.warn(\n",
      "c:\\Users\\Mridul\\anaconda3\\envs\\yfinance\\Lib\\site-packages\\sklearn\\base.py:493: UserWarning: X does not have valid feature names, but LinearRegression was fitted with feature names\n",
      "  warnings.warn(\n",
      "c:\\Users\\Mridul\\anaconda3\\envs\\yfinance\\Lib\\site-packages\\sklearn\\base.py:493: UserWarning: X does not have valid feature names, but LinearRegression was fitted with feature names\n",
      "  warnings.warn(\n",
      "c:\\Users\\Mridul\\anaconda3\\envs\\yfinance\\Lib\\site-packages\\sklearn\\base.py:493: UserWarning: X does not have valid feature names, but LinearRegression was fitted with feature names\n",
      "  warnings.warn(\n",
      "c:\\Users\\Mridul\\anaconda3\\envs\\yfinance\\Lib\\site-packages\\sklearn\\base.py:493: UserWarning: X does not have valid feature names, but LinearRegression was fitted with feature names\n",
      "  warnings.warn(\n",
      "c:\\Users\\Mridul\\anaconda3\\envs\\yfinance\\Lib\\site-packages\\sklearn\\base.py:493: UserWarning: X does not have valid feature names, but LinearRegression was fitted with feature names\n",
      "  warnings.warn(\n",
      "c:\\Users\\Mridul\\anaconda3\\envs\\yfinance\\Lib\\site-packages\\sklearn\\base.py:493: UserWarning: X does not have valid feature names, but LinearRegression was fitted with feature names\n",
      "  warnings.warn(\n",
      "c:\\Users\\Mridul\\anaconda3\\envs\\yfinance\\Lib\\site-packages\\sklearn\\base.py:493: UserWarning: X does not have valid feature names, but LinearRegression was fitted with feature names\n",
      "  warnings.warn(\n",
      "c:\\Users\\Mridul\\anaconda3\\envs\\yfinance\\Lib\\site-packages\\sklearn\\base.py:493: UserWarning: X does not have valid feature names, but LinearRegression was fitted with feature names\n",
      "  warnings.warn(\n",
      "c:\\Users\\Mridul\\anaconda3\\envs\\yfinance\\Lib\\site-packages\\sklearn\\base.py:493: UserWarning: X does not have valid feature names, but LinearRegression was fitted with feature names\n",
      "  warnings.warn(\n",
      "c:\\Users\\Mridul\\anaconda3\\envs\\yfinance\\Lib\\site-packages\\sklearn\\base.py:493: UserWarning: X does not have valid feature names, but LinearRegression was fitted with feature names\n",
      "  warnings.warn(\n",
      "c:\\Users\\Mridul\\anaconda3\\envs\\yfinance\\Lib\\site-packages\\sklearn\\base.py:493: UserWarning: X does not have valid feature names, but LinearRegression was fitted with feature names\n",
      "  warnings.warn(\n",
      "c:\\Users\\Mridul\\anaconda3\\envs\\yfinance\\Lib\\site-packages\\sklearn\\base.py:493: UserWarning: X does not have valid feature names, but LinearRegression was fitted with feature names\n",
      "  warnings.warn(\n",
      "c:\\Users\\Mridul\\anaconda3\\envs\\yfinance\\Lib\\site-packages\\sklearn\\base.py:493: UserWarning: X does not have valid feature names, but LinearRegression was fitted with feature names\n",
      "  warnings.warn(\n",
      "c:\\Users\\Mridul\\anaconda3\\envs\\yfinance\\Lib\\site-packages\\sklearn\\base.py:493: UserWarning: X does not have valid feature names, but LinearRegression was fitted with feature names\n",
      "  warnings.warn(\n",
      "c:\\Users\\Mridul\\anaconda3\\envs\\yfinance\\Lib\\site-packages\\sklearn\\base.py:493: UserWarning: X does not have valid feature names, but LinearRegression was fitted with feature names\n",
      "  warnings.warn(\n",
      "c:\\Users\\Mridul\\anaconda3\\envs\\yfinance\\Lib\\site-packages\\sklearn\\base.py:493: UserWarning: X does not have valid feature names, but LinearRegression was fitted with feature names\n",
      "  warnings.warn(\n",
      "c:\\Users\\Mridul\\anaconda3\\envs\\yfinance\\Lib\\site-packages\\sklearn\\base.py:493: UserWarning: X does not have valid feature names, but LinearRegression was fitted with feature names\n",
      "  warnings.warn(\n",
      "c:\\Users\\Mridul\\anaconda3\\envs\\yfinance\\Lib\\site-packages\\sklearn\\base.py:493: UserWarning: X does not have valid feature names, but LinearRegression was fitted with feature names\n",
      "  warnings.warn(\n",
      "c:\\Users\\Mridul\\anaconda3\\envs\\yfinance\\Lib\\site-packages\\sklearn\\base.py:493: UserWarning: X does not have valid feature names, but LinearRegression was fitted with feature names\n",
      "  warnings.warn(\n",
      "c:\\Users\\Mridul\\anaconda3\\envs\\yfinance\\Lib\\site-packages\\sklearn\\base.py:493: UserWarning: X does not have valid feature names, but LinearRegression was fitted with feature names\n",
      "  warnings.warn(\n",
      "c:\\Users\\Mridul\\anaconda3\\envs\\yfinance\\Lib\\site-packages\\sklearn\\base.py:493: UserWarning: X does not have valid feature names, but LinearRegression was fitted with feature names\n",
      "  warnings.warn(\n"
     ]
    }
   ],
   "source": [
    "# Train the fuzzy-TSK model\n",
    "models, kmeans = fuzzy_tsk_train(train)\n",
    "\n",
    "# Test the fuzzy-TSK model\n",
    "test_data = fuzzy_tsk_test(test, models, kmeans)\n",
    "\n",
    "# Evaluate the fuzzy-TSK model\n",
    "mse = evaluate_fuzzy_tsk(test_data)\n",
    "\n",
    "print(f'Mean Squared Error: {mse}')"
   ]
  },
  {
   "cell_type": "code",
   "execution_count": 101,
   "metadata": {},
   "outputs": [],
   "source": [
    "test_data.to_csv('test_data.csv')"
   ]
  },
  {
   "cell_type": "code",
   "execution_count": null,
   "metadata": {},
   "outputs": [],
   "source": []
  }
 ],
 "metadata": {
  "kernelspec": {
   "display_name": "yfinance",
   "language": "python",
   "name": "python3"
  },
  "language_info": {
   "codemirror_mode": {
    "name": "ipython",
    "version": 3
   },
   "file_extension": ".py",
   "mimetype": "text/x-python",
   "name": "python",
   "nbconvert_exporter": "python",
   "pygments_lexer": "ipython3",
   "version": "3.12.2"
  }
 },
 "nbformat": 4,
 "nbformat_minor": 2
}

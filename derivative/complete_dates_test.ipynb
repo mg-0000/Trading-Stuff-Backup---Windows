{
 "cells": [
  {
   "cell_type": "code",
   "execution_count": 1,
   "metadata": {},
   "outputs": [
    {
     "name": "stdout",
     "output_type": "stream",
     "text": [
      "here\n"
     ]
    }
   ],
   "source": [
    "import sys\n",
    "sys.path.insert(1, 'C:/Users/mridu/Documents/Trading Stuff/derivative')\n",
    "import backtest\n",
    "sys.path.insert(1, 'C:/Users/mridu/Documents/Trading Stuff/support')\n",
    "from dates import *\n",
    "\n",
    "import numpy as np\n",
    "import random"
   ]
  },
  {
   "cell_type": "code",
   "execution_count": 2,
   "metadata": {},
   "outputs": [],
   "source": [
    "# Variable values to be tested\n",
    "# variables = np.array([20.0, -10.0, 2, 3, 5, 2.0, 2.0])\n",
    "variables = np.array([33.,  3.,  3.,  7., 15., 12., 12.])"
   ]
  },
  {
   "cell_type": "code",
   "execution_count": 3,
   "metadata": {},
   "outputs": [
    {
     "name": "stdout",
     "output_type": "stream",
     "text": [
      "here\n",
      "['2023-08-07', '2023-08-08', '2023-08-09', '2023-08-10', '2023-08-11', '2023-08-14', '2023-08-15', '2023-08-16', '2023-08-17', '2023-08-18', '2023-08-21', '2023-08-22', '2023-08-23', '2023-08-24', '2023-08-25', '2023-08-28', '2023-08-29', '2023-08-30', '2023-08-31', '2023-09-01', '2023-09-04', '2023-09-05', '2023-09-06', '2023-09-07', '2023-09-08', '2023-09-11', '2023-09-12', '2023-09-13', '2023-09-14', '2023-09-15', '2023-09-18', '2023-09-19', '2023-09-20', '2023-09-21', '2023-09-22', '2023-09-25', '2023-09-26', '2023-09-27', '2023-09-28', '2023-09-29', '2023-10-02', '2023-10-03', '2023-10-04', '2023-10-05', '2023-10-06', '2023-10-09', '2023-10-10']\n",
      "['2023-08-10', '2023-08-10', '2023-08-10', '2023-08-10', '2023-08-17', '2023-08-17', '2023-08-17', '2023-08-17', '2023-08-17', '2023-08-24', '2023-08-24', '2023-08-24', '2023-08-24', '2023-08-24', '2023-08-31', '2023-08-31', '2023-08-31', '2023-08-31', '2023-08-31', '2023-09-06', '2023-09-06', '2023-09-06', '2023-09-06', '2023-09-13', '2023-09-13', '2023-09-13', '2023-09-13', '2023-09-13', '2023-09-20', '2023-09-20', '2023-09-20', '2023-09-20', '2023-09-20', '2023-09-27', '2023-09-27', '2023-09-27', '2023-09-27', '2023-09-27', '2023-10-04', '2023-10-04', '2023-10-04', '2023-10-04', '2023-10-04', '2023-10-11', '2023-10-11', '2023-10-11', '2023-10-11']\n"
     ]
    }
   ],
   "source": [
    "# a list of dates from start to end, excluding weekends\n",
    "start_date = \"2023-08-06\"\n",
    "end_date = \"2023-10-10\"\n",
    "first_expiry = \"2023-08-10\"\n",
    "dates = get_weekday_dates(start_date, end_date)\n",
    "print(dates)\n",
    "expiries = get_expiry_dates(dates, first_expiry)\n",
    "print(expiries)"
   ]
  },
  {
   "cell_type": "code",
   "execution_count": 4,
   "metadata": {},
   "outputs": [],
   "source": [
    "stock = \"CNXBAN\"\n",
    "lot_size = 15\n",
    "# expiry = \"2023-09-13\"\n",
    "# date = \"2023-09-13\"\n",
    "\n",
    "averaging_method = \"bilateral\""
   ]
  },
  {
   "cell_type": "code",
   "execution_count": 5,
   "metadata": {},
   "outputs": [
    {
     "data": {
      "text/plain": [
       "'c:\\\\Users\\\\mridu\\\\Documents\\\\Trading Stuff'"
      ]
     },
     "execution_count": 5,
     "metadata": {},
     "output_type": "execute_result"
    }
   ],
   "source": [
    "# RUN IF REQUIRED ONLY\n",
    "\n",
    "import os\n",
    "current_directory = os.getcwd()\n",
    "parent_directory = os.path.dirname(current_directory)\n",
    "# Set the current working directory to the parent directory\n",
    "os.chdir(parent_directory)\n",
    "os.getcwd()"
   ]
  },
  {
   "cell_type": "code",
   "execution_count": 6,
   "metadata": {},
   "outputs": [],
   "source": [
    "def objective_function(expiry, date, x):\n",
    "    # Replace this with your actual objective function\n",
    "    buy_trigs = [x[0]]\n",
    "    exit_trigs = [x[1]]\n",
    "    derivatives_lookback_period = int(x[2])\n",
    "    derivatives_interval = int(x[3])\n",
    "    averaging_lookback = int(x[4])\n",
    "    averaging_sigma_1 = x[5]\n",
    "    averaging_sigma_2 = x[6]\n",
    "\n",
    "    params = [stock, expiry, date, \"1second\", averaging_method, [buy_trigs, exit_trigs, derivatives_lookback_period, derivatives_interval, averaging_lookback, averaging_sigma_1, averaging_sigma_2]]\n",
    "\n",
    "    print(params)\n",
    "\n",
    "    b1 = backtest.backtest(params[0], params[1], params[2], params[3], params[4], params[5])\n",
    "    b1.backtest()\n",
    "    returns = b1.get_results()\n",
    "    result = (returns[0][0][0] + returns[1][0][0])*lot_size - (returns[0][0][1] + returns[1][0][1])*45 + (returns[0][0][2]*returns[0][0][3] + returns[1][0][2]*returns[1][0][3])*lot_size\n",
    "    print(\"result of objective function = \", result)\n",
    "\n",
    "    del b1\n",
    "\n",
    "    return result"
   ]
  },
  {
   "cell_type": "code",
   "execution_count": 7,
   "metadata": {},
   "outputs": [],
   "source": [
    "def main_test(variables):\n",
    "    results = []\n",
    "    for date_index in range(len(dates)):\n",
    "        try:\n",
    "            date = dates[date_index]\n",
    "            expiry = expiries[date_index]\n",
    "            returns = objective_function(expiry, date, variables)\n",
    "            results.append([returns, date])\n",
    "        except FileNotFoundError:\n",
    "            continue\n",
    "        # except IndexError:\n",
    "        #     continue\n",
    "\n",
    "    return results"
   ]
  },
  {
   "cell_type": "code",
   "execution_count": 8,
   "metadata": {},
   "outputs": [
    {
     "name": "stdout",
     "output_type": "stream",
     "text": [
      "['CNXBAN', '2023-08-10', '2023-08-07', '1second', 'bilateral', [[33.0], [3.0], 3, 7, 15, 12.0, 12.0]]\n",
      "result of objective function =  -1131.9296555406431\n",
      "['CNXBAN', '2023-08-10', '2023-08-08', '1second', 'bilateral', [[33.0], [3.0], 3, 7, 15, 12.0, 12.0]]\n",
      "result of objective function =  -1787.0176400824844\n",
      "['CNXBAN', '2023-08-10', '2023-08-09', '1second', 'bilateral', [[33.0], [3.0], 3, 7, 15, 12.0, 12.0]]\n",
      "result of objective function =  -1557.4267659475454\n",
      "['CNXBAN', '2023-08-10', '2023-08-10', '1second', 'bilateral', [[33.0], [3.0], 3, 7, 15, 12.0, 12.0]]\n",
      "result of objective function =  -823.378878552129\n",
      "['CNXBAN', '2023-08-17', '2023-08-11', '1second', 'bilateral', [[33.0], [3.0], 3, 7, 15, 12.0, 12.0]]\n",
      "result of objective function =  -2466.4889478650866\n",
      "['CNXBAN', '2023-08-17', '2023-08-14', '1second', 'bilateral', [[33.0], [3.0], 3, 7, 15, 12.0, 12.0]]\n",
      "result of objective function =  -1934.9723966729157\n",
      "['CNXBAN', '2023-08-17', '2023-08-15', '1second', 'bilateral', [[33.0], [3.0], 3, 7, 15, 12.0, 12.0]]\n",
      "No data\n",
      "['CNXBAN', '2023-08-17', '2023-08-16', '1second', 'bilateral', [[33.0], [3.0], 3, 7, 15, 12.0, 12.0]]\n",
      "result of objective function =  810.7322137727167\n",
      "['CNXBAN', '2023-08-17', '2023-08-17', '1second', 'bilateral', [[33.0], [3.0], 3, 7, 15, 12.0, 12.0]]\n",
      "result of objective function =  -2511.8503138430756\n",
      "['CNXBAN', '2023-08-24', '2023-08-18', '1second', 'bilateral', [[33.0], [3.0], 3, 7, 15, 12.0, 12.0]]\n",
      "result of objective function =  -2898.1028802566107\n",
      "['CNXBAN', '2023-08-24', '2023-08-21', '1second', 'bilateral', [[33.0], [3.0], 3, 7, 15, 12.0, 12.0]]\n",
      "result of objective function =  -954.3918017790422\n",
      "['CNXBAN', '2023-08-24', '2023-08-22', '1second', 'bilateral', [[33.0], [3.0], 3, 7, 15, 12.0, 12.0]]\n",
      "result of objective function =  -199.3136485379175\n",
      "['CNXBAN', '2023-08-24', '2023-08-23', '1second', 'bilateral', [[33.0], [3.0], 3, 7, 15, 12.0, 12.0]]\n",
      "result of objective function =  2493.2166322512885\n",
      "['CNXBAN', '2023-08-24', '2023-08-24', '1second', 'bilateral', [[33.0], [3.0], 3, 7, 15, 12.0, 12.0]]\n",
      "result of objective function =  581.6502410051785\n",
      "['CNXBAN', '2023-08-31', '2023-08-25', '1second', 'bilateral', [[33.0], [3.0], 3, 7, 15, 12.0, 12.0]]\n",
      "result of objective function =  219.84851009918924\n",
      "['CNXBAN', '2023-08-31', '2023-08-28', '1second', 'bilateral', [[33.0], [3.0], 3, 7, 15, 12.0, 12.0]]\n",
      "result of objective function =  778.2764996222086\n",
      "['CNXBAN', '2023-08-31', '2023-08-29', '1second', 'bilateral', [[33.0], [3.0], 3, 7, 15, 12.0, 12.0]]\n",
      "result of objective function =  188.51896017844908\n",
      "['CNXBAN', '2023-08-31', '2023-08-30', '1second', 'bilateral', [[33.0], [3.0], 3, 7, 15, 12.0, 12.0]]\n",
      "result of objective function =  5334.793524537653\n",
      "['CNXBAN', '2023-08-31', '2023-08-31', '1second', 'bilateral', [[33.0], [3.0], 3, 7, 15, 12.0, 12.0]]\n",
      "result of objective function =  -289.66644076787225\n",
      "['CNXBAN', '2023-09-06', '2023-09-01', '1second', 'bilateral', [[33.0], [3.0], 3, 7, 15, 12.0, 12.0]]\n",
      "result of objective function =  2614.2336340406296\n",
      "['CNXBAN', '2023-09-06', '2023-09-04', '1second', 'bilateral', [[33.0], [3.0], 3, 7, 15, 12.0, 12.0]]\n",
      "result of objective function =  -1286.0968135727041\n",
      "['CNXBAN', '2023-09-06', '2023-09-05', '1second', 'bilateral', [[33.0], [3.0], 3, 7, 15, 12.0, 12.0]]\n",
      "result of objective function =  -1460.3202532549915\n",
      "['CNXBAN', '2023-09-06', '2023-09-06', '1second', 'bilateral', [[33.0], [3.0], 3, 7, 15, 12.0, 12.0]]\n",
      "result of objective function =  -558.7176772377728\n",
      "['CNXBAN', '2023-09-13', '2023-09-07', '1second', 'bilateral', [[33.0], [3.0], 3, 7, 15, 12.0, 12.0]]\n",
      "result of objective function =  3465.088373709331\n",
      "['CNXBAN', '2023-09-13', '2023-09-08', '1second', 'bilateral', [[33.0], [3.0], 3, 7, 15, 12.0, 12.0]]\n",
      "result of objective function =  -1091.1227029880627\n",
      "['CNXBAN', '2023-09-13', '2023-09-11', '1second', 'bilateral', [[33.0], [3.0], 3, 7, 15, 12.0, 12.0]]\n",
      "result of objective function =  1017.842277566961\n",
      "['CNXBAN', '2023-09-13', '2023-09-12', '1second', 'bilateral', [[33.0], [3.0], 3, 7, 15, 12.0, 12.0]]\n",
      "result of objective function =  1501.3943689920889\n",
      "['CNXBAN', '2023-09-13', '2023-09-13', '1second', 'bilateral', [[33.0], [3.0], 3, 7, 15, 12.0, 12.0]]\n",
      "result of objective function =  4945.556772761822\n",
      "['CNXBAN', '2023-09-20', '2023-09-14', '1second', 'bilateral', [[33.0], [3.0], 3, 7, 15, 12.0, 12.0]]\n",
      "result of objective function =  -3225.5114184860695\n",
      "['CNXBAN', '2023-09-20', '2023-09-15', '1second', 'bilateral', [[33.0], [3.0], 3, 7, 15, 12.0, 12.0]]\n",
      "result of objective function =  468.19455702934647\n",
      "['CNXBAN', '2023-09-20', '2023-09-18', '1second', 'bilateral', [[33.0], [3.0], 3, 7, 15, 12.0, 12.0]]\n",
      "result of objective function =  -2096.456485855808\n",
      "['CNXBAN', '2023-09-20', '2023-09-19', '1second', 'bilateral', [[33.0], [3.0], 3, 7, 15, 12.0, 12.0]]\n",
      "No data\n",
      "['CNXBAN', '2023-09-20', '2023-09-20', '1second', 'bilateral', [[33.0], [3.0], 3, 7, 15, 12.0, 12.0]]\n",
      "result of objective function =  -1483.6199878736409\n",
      "['CNXBAN', '2023-09-27', '2023-09-21', '1second', 'bilateral', [[33.0], [3.0], 3, 7, 15, 12.0, 12.0]]\n",
      "No data\n",
      "['CNXBAN', '2023-09-27', '2023-09-22', '1second', 'bilateral', [[33.0], [3.0], 3, 7, 15, 12.0, 12.0]]\n",
      "No data\n",
      "['CNXBAN', '2023-09-27', '2023-09-25', '1second', 'bilateral', [[33.0], [3.0], 3, 7, 15, 12.0, 12.0]]\n",
      "No data\n",
      "['CNXBAN', '2023-09-27', '2023-09-26', '1second', 'bilateral', [[33.0], [3.0], 3, 7, 15, 12.0, 12.0]]\n",
      "No data\n",
      "['CNXBAN', '2023-09-27', '2023-09-27', '1second', 'bilateral', [[33.0], [3.0], 3, 7, 15, 12.0, 12.0]]\n",
      "No data\n",
      "['CNXBAN', '2023-10-04', '2023-09-28', '1second', 'bilateral', [[33.0], [3.0], 3, 7, 15, 12.0, 12.0]]\n",
      "result of objective function =  -975.5223525425879\n",
      "['CNXBAN', '2023-10-04', '2023-09-29', '1second', 'bilateral', [[33.0], [3.0], 3, 7, 15, 12.0, 12.0]]\n",
      "result of objective function =  -311.6399778772246\n",
      "['CNXBAN', '2023-10-04', '2023-10-02', '1second', 'bilateral', [[33.0], [3.0], 3, 7, 15, 12.0, 12.0]]\n",
      "No data\n",
      "['CNXBAN', '2023-10-04', '2023-10-03', '1second', 'bilateral', [[33.0], [3.0], 3, 7, 15, 12.0, 12.0]]\n",
      "result of objective function =  -1136.5841346777324\n",
      "['CNXBAN', '2023-10-04', '2023-10-04', '1second', 'bilateral', [[33.0], [3.0], 3, 7, 15, 12.0, 12.0]]\n",
      "result of objective function =  -1134.9441944655641\n",
      "['CNXBAN', '2023-10-11', '2023-10-05', '1second', 'bilateral', [[33.0], [3.0], 3, 7, 15, 12.0, 12.0]]\n",
      "result of objective function =  -1678.7176828180288\n",
      "['CNXBAN', '2023-10-11', '2023-10-06', '1second', 'bilateral', [[33.0], [3.0], 3, 7, 15, 12.0, 12.0]]\n",
      "result of objective function =  -4006.6974154672203\n",
      "['CNXBAN', '2023-10-11', '2023-10-09', '1second', 'bilateral', [[33.0], [3.0], 3, 7, 15, 12.0, 12.0]]\n",
      "result of objective function =  -2461.4756271722645\n",
      "['CNXBAN', '2023-10-11', '2023-10-10', '1second', 'bilateral', [[33.0], [3.0], 3, 7, 15, 12.0, 12.0]]\n",
      "result of objective function =  2160.143979330137\n"
     ]
    }
   ],
   "source": [
    "results = main_test(variables)"
   ]
  },
  {
   "cell_type": "code",
   "execution_count": 9,
   "metadata": {},
   "outputs": [
    {
     "name": "stdout",
     "output_type": "stream",
     "text": [
      "[-1131.9296555406431, '2023-08-07']\n",
      "[-1787.0176400824844, '2023-08-08']\n",
      "[-1557.4267659475454, '2023-08-09']\n",
      "[-823.378878552129, '2023-08-10']\n",
      "[-2466.4889478650866, '2023-08-11']\n",
      "[-1934.9723966729157, '2023-08-14']\n",
      "[810.7322137727167, '2023-08-16']\n",
      "[-2511.8503138430756, '2023-08-17']\n",
      "[-2898.1028802566107, '2023-08-18']\n",
      "[-954.3918017790422, '2023-08-21']\n",
      "[-199.3136485379175, '2023-08-22']\n",
      "[2493.2166322512885, '2023-08-23']\n",
      "[581.6502410051785, '2023-08-24']\n",
      "[219.84851009918924, '2023-08-25']\n",
      "[778.2764996222086, '2023-08-28']\n",
      "[188.51896017844908, '2023-08-29']\n",
      "[5334.793524537653, '2023-08-30']\n",
      "[-289.66644076787225, '2023-08-31']\n",
      "[2614.2336340406296, '2023-09-01']\n",
      "[-1286.0968135727041, '2023-09-04']\n",
      "[-1460.3202532549915, '2023-09-05']\n",
      "[-558.7176772377728, '2023-09-06']\n",
      "[3465.088373709331, '2023-09-07']\n",
      "[-1091.1227029880627, '2023-09-08']\n",
      "[1017.842277566961, '2023-09-11']\n",
      "[1501.3943689920889, '2023-09-12']\n",
      "[4945.556772761822, '2023-09-13']\n",
      "[-3225.5114184860695, '2023-09-14']\n",
      "[468.19455702934647, '2023-09-15']\n",
      "[-2096.456485855808, '2023-09-18']\n",
      "[-1483.6199878736409, '2023-09-20']\n",
      "[-975.5223525425879, '2023-09-28']\n",
      "[-311.6399778772246, '2023-09-29']\n",
      "[-1136.5841346777324, '2023-10-03']\n",
      "[-1134.9441944655641, '2023-10-04']\n",
      "[-1678.7176828180288, '2023-10-05']\n",
      "[-4006.6974154672203, '2023-10-06']\n",
      "[-2461.4756271722645, '2023-10-09']\n",
      "[2160.143979330137, '2023-10-10']\n"
     ]
    }
   ],
   "source": [
    "print(*results, sep=\"\\n\")"
   ]
  },
  {
   "cell_type": "code",
   "execution_count": 10,
   "metadata": {},
   "outputs": [
    {
     "name": "stdout",
     "output_type": "stream",
     "text": [
      "-330.3198858778973\n"
     ]
    }
   ],
   "source": [
    "mean = sum(row[0] for row in results)/len(results)\n",
    "print(mean)"
   ]
  },
  {
   "cell_type": "code",
   "execution_count": 11,
   "metadata": {},
   "outputs": [
    {
     "data": {
      "text/plain": [
       "[<matplotlib.lines.Line2D at 0x1a7468c8790>]"
      ]
     },
     "execution_count": 11,
     "metadata": {},
     "output_type": "execute_result"
    },
    {
     "data": {
      "image/png": "[encoded data removed]",
      "text/plain": [
       "<Figure size 640x480 with 1 Axes>"
      ]
     },
     "metadata": {},
     "output_type": "display_data"
    }
   ],
   "source": [
    "import matplotlib.pyplot as plt\n",
    "\n",
    "mean = sum(row[0] for row in results)/len(results)\n",
    "s = []\n",
    "for i in range(len(results)):\n",
    "    s.append(results[i][0])\n",
    "plt.plot(s)"
   ]
  },
  {
   "cell_type": "code",
   "execution_count": 12,
   "metadata": {},
   "outputs": [
    {
     "name": "stdout",
     "output_type": "stream",
     "text": [
      "39\n",
      "47\n"
     ]
    }
   ],
   "source": [
    "print(len(results))\n",
    "print(len(dates))"
   ]
  }
 ],
 "metadata": {
  "kernelspec": {
   "display_name": "Python 3",
   "language": "python",
   "name": "python3"
  },
  "language_info": {
   "codemirror_mode": {
    "name": "ipython",
    "version": 3
   },
   "file_extension": ".py",
   "mimetype": "text/x-python",
   "name": "python",
   "nbconvert_exporter": "python",
   "pygments_lexer": "ipython3",
   "version": "3.11.5"
  }
 },
 "nbformat": 4,
 "nbformat_minor": 2
}
